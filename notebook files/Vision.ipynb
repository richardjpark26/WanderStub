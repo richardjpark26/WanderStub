{
 "cells": [
  {
   "cell_type": "markdown",
   "metadata": {},
   "source": [
    "# Extract Text from Receipt"
   ]
  },
  {
   "cell_type": "code",
   "execution_count": 269,
   "metadata": {},
   "outputs": [],
   "source": [
    "def get_text(path):\n",
    "    \n",
    "    from google.cloud import vision\n",
    "    import io\n",
    "    \n",
    "    client = vision.ImageAnnotatorClient()\n",
    "    \n",
    "    with io.open(path, 'rb') as image_file:\n",
    "        content = image_file.read()\n",
    "        \n",
    "    image = vision.types.Image(content=content)\n",
    "\n",
    "    response = client.text_detection(image=image)\n",
    "    texts = response.text_annotations\n",
    "    native = texts[0].description\n",
    "    \n",
    "    return native"
   ]
  },
  {
   "cell_type": "markdown",
   "metadata": {},
   "source": [
    "# Get Total from Receipt"
   ]
  },
  {
   "cell_type": "code",
   "execution_count": 270,
   "metadata": {},
   "outputs": [],
   "source": [
    "def get_total(path):\n",
    "    receipt_txt = get_text(path)\n",
    "    \n",
    "    if 'Total' in receipt_txt:\n",
    "        where = receipt_txt.find('Total')\n",
    "        tot = receipt_txt[(where - 6):(where - 1)]\n",
    "        return tot"
   ]
  },
  {
   "cell_type": "markdown",
   "metadata": {},
   "source": [
    "# Getting Exchange Rates"
   ]
  },
  {
   "cell_type": "code",
   "execution_count": 271,
   "metadata": {},
   "outputs": [],
   "source": [
    "def get_rate():\n",
    "    import requests\n",
    "    import json\n",
    "    \n",
    "    curr = str(input(\"Which currency is the receipt in?: \"))\n",
    "    curr = curr.upper()\n",
    "\n",
    "    parameter = {\"base\":\"USD\",\"symbols\":curr}\n",
    "    response = requests.get(\"https://api.exchangeratesapi.io/latest\", params = parameter)\n",
    "    \n",
    "    resp = json.loads(response.text)\n",
    "    rates = resp['rates']\n",
    "    designated_rate = rates[curr]\n",
    "    \n",
    "    return designated_rate"
   ]
  },
  {
   "cell_type": "markdown",
   "metadata": {},
   "source": [
    "# Apply Exchange Rate"
   ]
  },
  {
   "cell_type": "code",
   "execution_count": 272,
   "metadata": {},
   "outputs": [],
   "source": [
    "def apply_exchange(orig,rate):\n",
    "    orig = float(orig)\n",
    "    rate = float(rate)\n",
    "    \n",
    "    converted = orig * rate\n",
    "    converted = round(converted, 2)\n",
    "    return converted\n"
   ]
  },
  {
   "cell_type": "markdown",
   "metadata": {},
   "source": [
    "# Main"
   ]
  },
  {
   "cell_type": "code",
   "execution_count": 273,
   "metadata": {},
   "outputs": [],
   "source": [
    "def main():\n",
    "    path = input(\"Where is the image?: \")\n",
    "    orig = get_total(path)\n",
    "    rate = get_rate()\n",
    "    \n",
    "    return apply_exchange(orig,rate)\n",
    "    "
   ]
  },
  {
   "cell_type": "code",
   "execution_count": 275,
   "metadata": {},
   "outputs": [
    {
     "name": "stdout",
     "output_type": "stream",
     "text": [
      "Where is the image?: /Volumes/New Drive/WanderStub/ReceiptSwiss.jpg\n",
      "Which currency is the receipt in?: CHF\n"
     ]
    },
    {
     "data": {
      "text/plain": [
       "54.29"
      ]
     },
     "execution_count": 275,
     "metadata": {},
     "output_type": "execute_result"
    }
   ],
   "source": [
    "main()"
   ]
  },
  {
   "cell_type": "code",
   "execution_count": null,
   "metadata": {},
   "outputs": [],
   "source": []
  }
 ],
 "metadata": {
  "kernelspec": {
   "display_name": "Python 3",
   "language": "python",
   "name": "python3"
  },
  "language_info": {
   "codemirror_mode": {
    "name": "ipython",
    "version": 3
   },
   "file_extension": ".py",
   "mimetype": "text/x-python",
   "name": "python",
   "nbconvert_exporter": "python",
   "pygments_lexer": "ipython3",
   "version": "3.7.0"
  }
 },
 "nbformat": 4,
 "nbformat_minor": 2
}
